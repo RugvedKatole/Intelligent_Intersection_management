{
 "cells": [
  {
   "cell_type": "code",
   "execution_count": 32,
   "metadata": {},
   "outputs": [
    {
     "name": "stdout",
     "output_type": "stream",
     "text": [
      "['a_1', 'a_2', 'a_3', 'b_1', 'b_2', 'b_3', 'c_1', 'c_2', 'c_3', 'd_1', 'd_2', 'd_3']\n"
     ]
    },
    {
     "ename": "ValueError",
     "evalue": "not enough values to unpack (expected 2, got 1)",
     "output_type": "error",
     "traceback": [
      "\u001b[0;31m---------------------------------------------------------------------------\u001b[0m",
      "\u001b[0;31mTypeError\u001b[0m                                 Traceback (most recent call last)",
      "File \u001b[0;32m~/.local/lib/python3.8/site-packages/networkx/classes/graph.py:572\u001b[0m, in \u001b[0;36mGraph.add_nodes_from\u001b[0;34m(self, nodes_for_adding, **attr)\u001b[0m\n\u001b[1;32m    571\u001b[0m \u001b[39mtry\u001b[39;00m:\n\u001b[0;32m--> 572\u001b[0m     newnode \u001b[39m=\u001b[39m n \u001b[39mnot\u001b[39;49;00m \u001b[39min\u001b[39;49;00m \u001b[39mself\u001b[39;49m\u001b[39m.\u001b[39;49m_node\n\u001b[1;32m    573\u001b[0m     newdict \u001b[39m=\u001b[39m attr\n",
      "\u001b[0;31mTypeError\u001b[0m: unhashable type: 'list'",
      "\nDuring handling of the above exception, another exception occurred:\n",
      "\u001b[0;31mValueError\u001b[0m                                Traceback (most recent call last)",
      "\u001b[1;32m/home/arms04/autonomous_driving_stack/Intelligent_Intersection_management/Four_way/p.ipynb Cell 1\u001b[0m in \u001b[0;36m<cell line: 17>\u001b[0;34m()\u001b[0m\n\u001b[1;32m     <a href='vscode-notebook-cell:/home/arms04/autonomous_driving_stack/Intelligent_Intersection_management/Four_way/p.ipynb#W0sZmlsZQ%3D%3D?line=13'>14</a>\u001b[0m             G\u001b[39m.\u001b[39madd_edge(i,j)\n\u001b[1;32m     <a href='vscode-notebook-cell:/home/arms04/autonomous_driving_stack/Intelligent_Intersection_management/Four_way/p.ipynb#W0sZmlsZQ%3D%3D?line=15'>16</a>\u001b[0m G1 \u001b[39m=\u001b[39m \u001b[39mlist\u001b[39m(nx\u001b[39m.\u001b[39menumerate_all_cliques(G))\n\u001b[0;32m---> <a href='vscode-notebook-cell:/home/arms04/autonomous_driving_stack/Intelligent_Intersection_management/Four_way/p.ipynb#W0sZmlsZQ%3D%3D?line=16'>17</a>\u001b[0m nx\u001b[39m.\u001b[39;49mdraw_networkx(G1)\n",
      "File \u001b[0;32m~/.local/lib/python3.8/site-packages/networkx/drawing/nx_pylab.py:331\u001b[0m, in \u001b[0;36mdraw_networkx\u001b[0;34m(G, pos, arrows, with_labels, **kwds)\u001b[0m\n\u001b[1;32m    328\u001b[0m label_kwds \u001b[39m=\u001b[39m {k: v \u001b[39mfor\u001b[39;00m k, v \u001b[39min\u001b[39;00m kwds\u001b[39m.\u001b[39mitems() \u001b[39mif\u001b[39;00m k \u001b[39min\u001b[39;00m valid_label_kwds}\n\u001b[1;32m    330\u001b[0m \u001b[39mif\u001b[39;00m pos \u001b[39mis\u001b[39;00m \u001b[39mNone\u001b[39;00m:\n\u001b[0;32m--> 331\u001b[0m     pos \u001b[39m=\u001b[39m nx\u001b[39m.\u001b[39;49mdrawing\u001b[39m.\u001b[39;49mspring_layout(G)  \u001b[39m# default to spring layout\u001b[39;00m\n\u001b[1;32m    333\u001b[0m draw_networkx_nodes(G, pos, \u001b[39m*\u001b[39m\u001b[39m*\u001b[39mnode_kwds)\n\u001b[1;32m    334\u001b[0m draw_networkx_edges(G, pos, arrows\u001b[39m=\u001b[39marrows, \u001b[39m*\u001b[39m\u001b[39m*\u001b[39medge_kwds)\n",
      "File \u001b[0;32m<class 'networkx.utils.decorators.argmap'> compilation 4:4\u001b[0m, in \u001b[0;36margmap_spring_layout_1\u001b[0;34m(G, k, pos, fixed, iterations, threshold, weight, scale, center, dim, seed)\u001b[0m\n\u001b[1;32m      2\u001b[0m \u001b[39mfrom\u001b[39;00m \u001b[39mos\u001b[39;00m\u001b[39m.\u001b[39;00m\u001b[39mpath\u001b[39;00m \u001b[39mimport\u001b[39;00m splitext\n\u001b[1;32m      3\u001b[0m \u001b[39mfrom\u001b[39;00m \u001b[39mcontextlib\u001b[39;00m \u001b[39mimport\u001b[39;00m contextmanager\n\u001b[0;32m----> 4\u001b[0m \u001b[39mfrom\u001b[39;00m \u001b[39mpathlib\u001b[39;00m \u001b[39mimport\u001b[39;00m Path\n\u001b[1;32m      5\u001b[0m \u001b[39mimport\u001b[39;00m \u001b[39mwarnings\u001b[39;00m\n\u001b[1;32m      7\u001b[0m \u001b[39mimport\u001b[39;00m \u001b[39mnetworkx\u001b[39;00m \u001b[39mas\u001b[39;00m \u001b[39mnx\u001b[39;00m\n",
      "File \u001b[0;32m~/.local/lib/python3.8/site-packages/networkx/drawing/layout.py:442\u001b[0m, in \u001b[0;36mspring_layout\u001b[0;34m(G, k, pos, fixed, iterations, threshold, weight, scale, center, dim, seed)\u001b[0m\n\u001b[1;32m    359\u001b[0m \u001b[39m\u001b[39m\u001b[39m\"\"\"Position nodes using Fruchterman-Reingold force-directed algorithm.\u001b[39;00m\n\u001b[1;32m    360\u001b[0m \n\u001b[1;32m    361\u001b[0m \u001b[39mThe algorithm simulates a force-directed representation of the network\u001b[39;00m\n\u001b[0;32m   (...)\u001b[0m\n\u001b[1;32m    438\u001b[0m \u001b[39m>>> pos = nx.fruchterman_reingold_layout(G)\u001b[39;00m\n\u001b[1;32m    439\u001b[0m \u001b[39m\"\"\"\u001b[39;00m\n\u001b[1;32m    440\u001b[0m \u001b[39mimport\u001b[39;00m \u001b[39mnumpy\u001b[39;00m \u001b[39mas\u001b[39;00m \u001b[39mnp\u001b[39;00m\n\u001b[0;32m--> 442\u001b[0m G, center \u001b[39m=\u001b[39m _process_params(G, center, dim)\n\u001b[1;32m    444\u001b[0m \u001b[39mif\u001b[39;00m fixed \u001b[39mis\u001b[39;00m \u001b[39mnot\u001b[39;00m \u001b[39mNone\u001b[39;00m:\n\u001b[1;32m    445\u001b[0m     \u001b[39mif\u001b[39;00m pos \u001b[39mis\u001b[39;00m \u001b[39mNone\u001b[39;00m:\n",
      "File \u001b[0;32m~/.local/lib/python3.8/site-packages/networkx/drawing/layout.py:44\u001b[0m, in \u001b[0;36m_process_params\u001b[0;34m(G, center, dim)\u001b[0m\n\u001b[1;32m     42\u001b[0m \u001b[39mif\u001b[39;00m \u001b[39mnot\u001b[39;00m \u001b[39misinstance\u001b[39m(G, nx\u001b[39m.\u001b[39mGraph):\n\u001b[1;32m     43\u001b[0m     empty_graph \u001b[39m=\u001b[39m nx\u001b[39m.\u001b[39mGraph()\n\u001b[0;32m---> 44\u001b[0m     empty_graph\u001b[39m.\u001b[39;49madd_nodes_from(G)\n\u001b[1;32m     45\u001b[0m     G \u001b[39m=\u001b[39m empty_graph\n\u001b[1;32m     47\u001b[0m \u001b[39mif\u001b[39;00m center \u001b[39mis\u001b[39;00m \u001b[39mNone\u001b[39;00m:\n",
      "File \u001b[0;32m~/.local/lib/python3.8/site-packages/networkx/classes/graph.py:575\u001b[0m, in \u001b[0;36mGraph.add_nodes_from\u001b[0;34m(self, nodes_for_adding, **attr)\u001b[0m\n\u001b[1;32m    573\u001b[0m     newdict \u001b[39m=\u001b[39m attr\n\u001b[1;32m    574\u001b[0m \u001b[39mexcept\u001b[39;00m \u001b[39mTypeError\u001b[39;00m:\n\u001b[0;32m--> 575\u001b[0m     n, ndict \u001b[39m=\u001b[39m n\n\u001b[1;32m    576\u001b[0m     newnode \u001b[39m=\u001b[39m n \u001b[39mnot\u001b[39;00m \u001b[39min\u001b[39;00m \u001b[39mself\u001b[39m\u001b[39m.\u001b[39m_node\n\u001b[1;32m    577\u001b[0m     newdict \u001b[39m=\u001b[39m attr\u001b[39m.\u001b[39mcopy()\n",
      "\u001b[0;31mValueError\u001b[0m: not enough values to unpack (expected 2, got 1)"
     ]
    }
   ],
   "source": [
    "import networkx as nx\n",
    "import pandas as pd\n",
    "conflict_matrix = {}\n",
    "df = pd.read_csv(\"/home/arms04/autonomous_driving_stack/Intelligent_Intersection_management/Four_way/conflict_matrix_4way_compliment.csv\")\n",
    "for i in df.columns:\n",
    "    conflict_matrix[i]=[j for j in df[i] if j!= '0' or j!= 0]\n",
    "\n",
    "G = nx.Graph()\n",
    "G.add_nodes_from(df.columns)\n",
    "print(G.nodes)\n",
    "for i in df.columns:\n",
    "    for j in df[i]:\n",
    "        if j != \"0\":\n",
    "            G.add_edge(i,j)\n",
    "\n",
    "G1 = list(nx.enumerate_all_cliques(G))\n",
    "print(G1)\n"
   ]
  },
  {
   "cell_type": "code",
   "execution_count": 30,
   "metadata": {},
   "outputs": [
    {
     "name": "stdout",
     "output_type": "stream",
     "text": [
      "['v09.d_3', 'v18.b_2', 'v20.c_1', 'v22.a_3']\n"
     ]
    }
   ],
   "source": []
  }
 ],
 "metadata": {
  "kernelspec": {
   "display_name": "Python 3",
   "language": "python",
   "name": "python3"
  },
  "language_info": {
   "codemirror_mode": {
    "name": "ipython",
    "version": 3
   },
   "file_extension": ".py",
   "mimetype": "text/x-python",
   "name": "python",
   "nbconvert_exporter": "python",
   "pygments_lexer": "ipython3",
   "version": "3.8.10"
  },
  "orig_nbformat": 4
 },
 "nbformat": 4,
 "nbformat_minor": 2
}
