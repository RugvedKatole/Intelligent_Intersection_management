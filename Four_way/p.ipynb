{
 "cells": [
  {
   "cell_type": "code",
   "execution_count": 142,
   "metadata": {},
   "outputs": [
    {
     "name": "stdout",
     "output_type": "stream",
     "text": [
      "['a_1', 'a_2', 'a_3', 'b_1', 'b_2', 'b_3', 'c_1', 'c_2', 'c_3', 'd_1', 'd_2', 'd_3']\n"
     ]
    },
    {
     "data": {
      "image/png": "[encoded data removed]",
      "text/plain": [
       "<Figure size 432x288 with 1 Axes>"
      ]
     },
     "metadata": {},
     "output_type": "display_data"
    }
   ],
   "source": [
    "import networkx as nx\n",
    "import pandas as pd\n",
    "conflict_matrix = {}\n",
    "df = pd.read_csv(\"/home/arms04/autonomous_driving_stack/Intelligent_Intersection_management/Four_way/conflict_matrix_4way_compliment.csv\")\n",
    "for i in df.columns:\n",
    "    conflict_matrix[i]=[j for j in df[i] if j!= '0' or j!= 0]\n",
    "\n",
    "G = nx.Graph()\n",
    "G.add_nodes_from(df.columns)\n",
    "print(G.nodes)\n",
    "for i in df.columns:\n",
    "    for j in df[i]:\n",
    "        if j != \"0\":\n",
    "            G.add_edge(i,j)\n",
    "G.subgraph(['a_1', 'b_2','c_2', 'd_2'])\n",
    "G1 = G.subgraph(['a_1', 'b_2','c_2', 'd_2'])\n",
    "nx.draw(G1,with_labels=True)\n"
   ]
  },
  {
   "cell_type": "code",
   "execution_count": 2,
   "metadata": {},
   "outputs": [],
   "source": [
    "import numpy as np\n",
    "a = np.random.poisson(1.15,size=(1000))"
   ]
  },
  {
   "cell_type": "code",
   "execution_count": 3,
   "metadata": {},
   "outputs": [
    {
     "data": {
      "image/png": "[encoded data removed]",
      "text/plain": [
       "<Figure size 432x288 with 1 Axes>"
      ]
     },
     "metadata": {
      "needs_background": "light"
     },
     "output_type": "display_data"
    }
   ],
   "source": [
    "import matplotlib.pyplot as plt\n",
    "\n",
    "plt.plot(2,3,'o')\n",
    "plt.show()"
   ]
  },
  {
   "cell_type": "code",
   "execution_count": 30,
   "metadata": {},
   "outputs": [
    {
     "name": "stdout",
     "output_type": "stream",
     "text": [
      "Index(['a_1', 'a_2', 'a_3', 'b_1', 'b_2', 'b_3', 'c_1', 'c_2', 'c_3', 'd_1',\n",
      "       'd_2', 'd_3'],\n",
      "      dtype='object')\n",
      "['c_1', 'b_1', 'a_1', 'd_1'] out/inn ['a_1', 'b_1', 'c_1', 'd_1']\n",
      "['c_1', 'b_1', 'a_1'] out/inn ['a_1', 'b_1', 'c_1', 'd_2']\n",
      "['c_1', 'a_1', 'b_1'] out/inn ['a_1', 'b_1', 'c_1', 'd_3']\n",
      "['b_1', 'a_1', 'c_2'] out/inn ['a_1', 'b_1', 'c_2', 'd_1']\n",
      "['b_1', 'a_1', 'c_2'] out/inn ['a_1', 'b_1', 'c_2', 'd_2']\n",
      "['a_1', 'c_2', 'b_1'] out/inn ['a_1', 'b_1', 'c_2', 'd_3']\n",
      "['b_1', 'd_1', 'a_1'] out/inn ['a_1', 'b_1', 'c_3', 'd_1']\n",
      "['b_1', 'a_1'] out/inn ['a_1', 'b_1', 'c_3', 'd_2']\n",
      "['b_1', 'a_1'] out/inn ['a_1', 'b_1', 'c_3', 'd_3']\n",
      "['a_1', 'd_1', 'b_2'] out/inn ['a_1', 'b_2', 'c_1', 'd_1']\n",
      "['b_2', 'a_1'] out/inn ['a_1', 'b_2', 'c_1', 'd_2']\n",
      "['a_1', 'c_1', 'd_3'] out/inn ['a_1', 'b_2', 'c_1', 'd_3']\n",
      "['a_1', 'b_2', 'd_1'] out/inn ['a_1', 'b_2', 'c_2', 'd_1']\n",
      "['a_1', 'b_2'] out/inn ['a_1', 'b_2', 'c_2', 'd_2']\n",
      "['a_1', 'b_2'] out/inn ['a_1', 'b_2', 'c_2', 'd_3']\n",
      "['d_1', 'b_2', 'a_1'] out/inn ['a_1', 'b_2', 'c_3', 'd_1']\n",
      "['b_2', 'a_1'] out/inn ['a_1', 'b_2', 'c_3', 'd_2']\n",
      "['a_1', 'b_2'] out/inn ['a_1', 'b_2', 'c_3', 'd_3']\n",
      "['c_1', 'a_1', 'b_3'] out/inn ['a_1', 'b_3', 'c_1', 'd_1']\n",
      "['c_1', 'a_1', 'b_3'] out/inn ['a_1', 'b_3', 'c_1', 'd_2']\n",
      "['c_1', 'b_3', 'd_3', 'a_1'] out/inn ['a_1', 'b_3', 'c_1', 'd_3']\n",
      "['a_1', 'b_3'] out/inn ['a_1', 'b_3', 'c_2', 'd_1']\n",
      "['a_1', 'b_3'] out/inn ['a_1', 'b_3', 'c_2', 'd_2']\n",
      "['a_1', 'b_3', 'd_3'] out/inn ['a_1', 'b_3', 'c_2', 'd_3']\n",
      "['a_1', 'b_3'] out/inn ['a_1', 'b_3', 'c_3', 'd_1']\n",
      "['a_1', 'b_3'] out/inn ['a_1', 'b_3', 'c_3', 'd_2']\n",
      "['b_3', 'd_3', 'a_1'] out/inn ['a_1', 'b_3', 'c_3', 'd_3']\n",
      "['c_1', 'd_1', 'a_2'] out/inn ['a_2', 'b_1', 'c_1', 'd_1']\n",
      "['c_1', 'd_2', 'b_1'] out/inn ['a_2', 'b_1', 'c_1', 'd_2']\n",
      "['c_1', 'a_2'] out/inn ['a_2', 'b_1', 'c_1', 'd_3']\n",
      "['a_2', 'c_2'] out/inn ['a_2', 'b_1', 'c_2', 'd_1']\n",
      "['c_2', 'a_2'] out/inn ['a_2', 'b_1', 'c_2', 'd_2']\n",
      "['c_2', 'a_2'] out/inn ['a_2', 'b_1', 'c_2', 'd_3']\n",
      "['d_1', 'b_1', 'c_3'] out/inn ['a_2', 'b_1', 'c_3', 'd_1']\n",
      "['b_1', 'c_3'] out/inn ['a_2', 'b_1', 'c_3', 'd_2']\n",
      "['b_1', 'c_3'] out/inn ['a_2', 'b_1', 'c_3', 'd_3']\n",
      "['d_1', 'a_2', 'c_1'] out/inn ['a_2', 'b_2', 'c_1', 'd_1']\n",
      "['c_1', 'a_2'] out/inn ['a_2', 'b_2', 'c_1', 'd_2']\n",
      "['c_1', 'a_2'] out/inn ['a_2', 'b_2', 'c_1', 'd_3']\n",
      "['a_2', 'c_2'] out/inn ['a_2', 'b_2', 'c_2', 'd_1']\n",
      "['a_2', 'c_2'] out/inn ['a_2', 'b_2', 'c_2', 'd_2']\n",
      "['a_2', 'c_2'] out/inn ['a_2', 'b_2', 'c_2', 'd_3']\n",
      "['d_1', 'a_2'] out/inn ['a_2', 'b_2', 'c_3', 'd_1']\n",
      "['b_2', 'd_2'] out/inn ['a_2', 'b_2', 'c_3', 'd_2']\n",
      "['a_2'] out/inn ['a_2', 'b_2', 'c_3', 'd_3']\n",
      "['c_1', 'a_2', 'd_1'] out/inn ['a_2', 'b_3', 'c_1', 'd_1']\n",
      "['c_1', 'a_2'] out/inn ['a_2', 'b_3', 'c_1', 'd_2']\n",
      "['c_1', 'b_3', 'd_3'] out/inn ['a_2', 'b_3', 'c_1', 'd_3']\n",
      "['a_2', 'c_2'] out/inn ['a_2', 'b_3', 'c_2', 'd_1']\n",
      "['a_2', 'c_2'] out/inn ['a_2', 'b_3', 'c_2', 'd_2']\n",
      "['a_2', 'c_2'] out/inn ['a_2', 'b_3', 'c_2', 'd_3']\n",
      "['d_1', 'a_2'] out/inn ['a_2', 'b_3', 'c_3', 'd_1']\n",
      "['a_2'] out/inn ['a_2', 'b_3', 'c_3', 'd_2']\n",
      "['b_3', 'd_3'] out/inn ['a_2', 'b_3', 'c_3', 'd_3']\n",
      "['b_1', 'd_1', 'a_3'] out/inn ['a_3', 'b_1', 'c_1', 'd_1']\n",
      "['b_1', 'c_1', 'd_2'] out/inn ['a_3', 'b_1', 'c_1', 'd_2']\n",
      "['a_3', 'b_1'] out/inn ['a_3', 'b_1', 'c_1', 'd_3']\n",
      "['b_1', 'a_3', 'd_1'] out/inn ['a_3', 'b_1', 'c_2', 'd_1']\n",
      "['b_1', 'a_3'] out/inn ['a_3', 'b_1', 'c_2', 'd_2']\n",
      "['b_1', 'a_3'] out/inn ['a_3', 'b_1', 'c_2', 'd_3']\n",
      "['a_3', 'd_1', 'b_1', 'c_3'] out/inn ['a_3', 'b_1', 'c_3', 'd_1']\n",
      "['b_1', 'a_3', 'c_3'] out/inn ['a_3', 'b_1', 'c_3', 'd_2']\n",
      "['a_3', 'b_1', 'c_3'] out/inn ['a_3', 'b_1', 'c_3', 'd_3']\n",
      "['d_1', 'a_3'] out/inn ['a_3', 'b_2', 'c_1', 'd_1']\n",
      "['d_2', 'b_2'] out/inn ['a_3', 'b_2', 'c_1', 'd_2']\n",
      "['c_1', 'd_3'] out/inn ['a_3', 'b_2', 'c_1', 'd_3']\n",
      "['d_1', 'a_3'] out/inn ['a_3', 'b_2', 'c_2', 'd_1']\n",
      "['b_2', 'd_2'] out/inn ['a_3', 'b_2', 'c_2', 'd_2']\n",
      "['a_3'] out/inn ['a_3', 'b_2', 'c_2', 'd_3']\n",
      "['d_1', 'a_3', 'c_3'] out/inn ['a_3', 'b_2', 'c_3', 'd_1']\n",
      "['a_3', 'c_3'] out/inn ['a_3', 'b_2', 'c_3', 'd_2']\n",
      "['a_3', 'c_3'] out/inn ['a_3', 'b_2', 'c_3', 'd_3']\n",
      "['a_3', 'd_1'] out/inn ['a_3', 'b_3', 'c_1', 'd_1']\n",
      "['c_1', 'b_3'] out/inn ['a_3', 'b_3', 'c_1', 'd_2']\n",
      "['c_1', 'b_3', 'd_3'] out/inn ['a_3', 'b_3', 'c_1', 'd_3']\n",
      "['a_3', 'd_1'] out/inn ['a_3', 'b_3', 'c_2', 'd_1']\n",
      "['a_3'] out/inn ['a_3', 'b_3', 'c_2', 'd_2']\n",
      "['b_3', 'd_3'] out/inn ['a_3', 'b_3', 'c_2', 'd_3']\n",
      "['a_3', 'c_3', 'd_1'] out/inn ['a_3', 'b_3', 'c_3', 'd_1']\n",
      "['a_3', 'c_3'] out/inn ['a_3', 'b_3', 'c_3', 'd_2']\n",
      "['a_3', 'c_3'] out/inn ['a_3', 'b_3', 'c_3', 'd_3']\n"
     ]
    }
   ],
   "source": [
    "# Pattern Recognition\n",
    "\n",
    "import os\n",
    "import sys\n",
    "from math import sqrt\n",
    "import numpy as np\n",
    "import pandas as pd\n",
    "import random\n",
    "import networkx as nx\n",
    "import matplotlib.pyplot as plt\n",
    "\n",
    "def intersection_manger(input_vehs,G: nx.graph):\n",
    "    \"\"\"THE ACTUAL ALGORITHM\"\"\"\n",
    "    # incoming = {}\n",
    "    # for i in input_vehs:\n",
    "    #     incoming[i.split(\".\")[1]] = i.split(\".\")[0]\n",
    "    # # input_vehs= [\".\".join([i.split(\".\")[1],i.split(\".\")[0]]) for i in input_vehs]\n",
    "    # # input_vehs = sorted(input_vehs)\n",
    "    # # input_vehs = [\".\".join([i.split(\".\")[1],i.split(\".\")[0]]) for i in input_vehs]\n",
    "    # input = incoming.keys()\n",
    "    output_list = input_vehs\n",
    "    Gs = G.subgraph(input_vehs)\n",
    "    # nx.draw(Gs,with_labels=True)\n",
    "    # output_list = sorted(list(nx.find_cliques(Gs)),key=len,reverse=True)\n",
    "    # output_list = sorted(sorted(list(nx.find_cliques(Gs)),key=len,reverse=True),key=lambda clique: sorted(clique,key=lambda man: man.split(\"_\")[0]))\n",
    "    # for i in range(len(output_list)):\n",
    "    #     output_list[i] = sorted(output_list[i])\n",
    "    output_list = sorted(sorted(list(nx.find_cliques(Gs)),key=lambda clique: sorted(clique,key=lambda man: man.split(\"_\")[0])),key=len,reverse=True)    \n",
    "    return output_list[0], input_vehs\n",
    "\n",
    "conflict_matrix = {}\n",
    "df = pd.read_csv(\"/home/arms04/autonomous_driving_stack/Intelligent_Intersection_management/Four_way/conflict_matrix_4way_compliment.csv\")\n",
    "for i in df.columns:\n",
    "    conflict_matrix[i]=[j for j in df[i] if j!= '0' or j!= 0]\n",
    "\n",
    "# creating a big graph out of conflict matrix\n",
    "G = nx.Graph()\n",
    "G.add_nodes_from(df.columns)\n",
    "# print(G.nodes)\n",
    "for i in df.columns:\n",
    "    for j in df[i]:\n",
    "        if j != \"0\":\n",
    "            G.add_edge(i,j)\n",
    "print(df.columns)\n",
    "a_cases = {1:[],2:[],3:[]}\n",
    "b_cases = {1:[],2:[],3:[]}\n",
    "c_cases = {1:[],2:[],3:[]}\n",
    "d_cases = {1:[],2:[],3:[]}\n",
    "for i in [1,2,3]:\n",
    "    for j in [1,2,3]:\n",
    "        for k in [1,2,3]:\n",
    "            for l in [1,2,3]:\n",
    "                # i,j,k,l = 2,1,1,2\n",
    "                out,inn = intersection_manger([f'a_{i}',f'b_{j}',f'c_{k}',f'd_{l}'],G)\n",
    "                print(out,'out/inn',inn)\n",
    "    #             break\n",
    "    #         break\n",
    "    #     break\n",
    "    # break\n",
    "                # # print(out)\n",
    "                out_binary = []\n",
    "                \n",
    "                for n,o in zip(['a','b','c','d'],[i,j,k,l]):\n",
    "                    if f'{n}_{o}' in out:\n",
    "                        out_binary.append(f'{n}_{o}')\n",
    "                    else:\n",
    "                        out_binary.append(0)\n",
    "                a_cases[i].append([inn,out_binary])\n",
    "                # a_cases['Maneuvers'].append(inn)\n",
    "                b_cases[j].append([inn,out_binary])\n",
    "                # b_cases['Maneuvers'].append(inn)\n",
    "                c_cases[k].append([inn,out_binary])\n",
    "                # c_cases['Maneuvers'].append(inn)\n",
    "                d_cases[l].append([inn,out_binary])\n",
    "                # d_cases['Maneuvers'].append(inn)\n",
    "\n",
    "\n",
    "# print(out)\n",
    "\n"
   ]
  },
  {
   "cell_type": "code",
   "execution_count": 7,
   "metadata": {},
   "outputs": [
    {
     "name": "stdout",
     "output_type": "stream",
     "text": [
      "27\n",
      "27\n",
      "27\n",
      "27\n",
      "-------------------\n",
      "27\n",
      "27\n",
      "27\n",
      "27\n",
      "-------------------\n",
      "27\n",
      "27\n",
      "27\n",
      "27\n",
      "-------------------\n"
     ]
    },
    {
     "name": "stderr",
     "output_type": "stream",
     "text": [
      "/tmp/ipykernel_188304/813383267.py:2: VisibleDeprecationWarning: Creating an ndarray from ragged nested sequences (which is a list-or-tuple of lists-or-tuples-or ndarrays with different lengths or shapes) is deprecated. If you meant to do this, you must specify 'dtype=object' when creating the ndarray.\n",
      "  a = np.array(a_cases[q+1])\n",
      "/tmp/ipykernel_188304/813383267.py:4: VisibleDeprecationWarning: Creating an ndarray from ragged nested sequences (which is a list-or-tuple of lists-or-tuples-or ndarrays with different lengths or shapes) is deprecated. If you meant to do this, you must specify 'dtype=object' when creating the ndarray.\n",
      "  b = np.array(b_cases[q+1])\n",
      "/tmp/ipykernel_188304/813383267.py:6: VisibleDeprecationWarning: Creating an ndarray from ragged nested sequences (which is a list-or-tuple of lists-or-tuples-or ndarrays with different lengths or shapes) is deprecated. If you meant to do this, you must specify 'dtype=object' when creating the ndarray.\n",
      "  c = np.array(c_cases[q+1])\n",
      "/tmp/ipykernel_188304/813383267.py:8: VisibleDeprecationWarning: Creating an ndarray from ragged nested sequences (which is a list-or-tuple of lists-or-tuples-or ndarrays with different lengths or shapes) is deprecated. If you meant to do this, you must specify 'dtype=object' when creating the ndarray.\n",
      "  d = np.array(d_cases[q+1])\n"
     ]
    }
   ],
   "source": [
    "for q in range(3):\n",
    "    a = np.array(a_cases[q+1])\n",
    "    print(len(a))\n",
    "    b = np.array(b_cases[q+1])\n",
    "    print(len(b))\n",
    "    c = np.array(c_cases[q+1])\n",
    "    print(len(c))\n",
    "    d = np.array(d_cases[q+1])\n",
    "    print(len(d))\n",
    "    print(\"-------------------\")"
   ]
  },
  {
   "cell_type": "code",
   "execution_count": 31,
   "metadata": {},
   "outputs": [],
   "source": [
    "cases = pd.DataFrame(a_cases)\n",
    "# print(len(a_cases['Maneuvers']))"
   ]
  },
  {
   "cell_type": "code",
   "execution_count": 32,
   "metadata": {},
   "outputs": [],
   "source": [
    "cases.to_csv('a_const.csv')"
   ]
  },
  {
   "cell_type": "code",
   "execution_count": null,
   "metadata": {},
   "outputs": [],
   "source": []
  }
 ],
 "metadata": {
  "kernelspec": {
   "display_name": "Python 3",
   "language": "python",
   "name": "python3"
  },
  "language_info": {
   "codemirror_mode": {
    "name": "ipython",
    "version": 3
   },
   "file_extension": ".py",
   "mimetype": "text/x-python",
   "name": "python",
   "nbconvert_exporter": "python",
   "pygments_lexer": "ipython3",
   "version": "3.8.10"
  },
  "orig_nbformat": 4
 },
 "nbformat": 4,
 "nbformat_minor": 2
}
